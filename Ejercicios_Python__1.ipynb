{
  "nbformat": 4,
  "nbformat_minor": 0,
  "metadata": {
    "colab": {
      "provenance": [],
      "authorship_tag": "ABX9TyMA2wo4xJ9hf9LwhLEJIF9L",
      "include_colab_link": true
    },
    "kernelspec": {
      "name": "python3",
      "display_name": "Python 3"
    },
    "language_info": {
      "name": "python"
    }
  },
  "cells": [
    {
      "cell_type": "markdown",
      "metadata": {
        "id": "view-in-github",
        "colab_type": "text"
      },
      "source": [
        "<a href=\"https://colab.research.google.com/github/Wicho2003/Inteligencia_artificial/blob/main/Ejercicios_Python__1.ipynb\" target=\"_parent\"><img src=\"https://colab.research.google.com/assets/colab-badge.svg\" alt=\"Open In Colab\"/></a>"
      ]
    },
    {
      "cell_type": "code",
      "execution_count": null,
      "metadata": {
        "id": "7oO2XUym1GQd"
      },
      "outputs": [],
      "source": [
        " Enrique Gonzalez George 1975503 N4 - N6 Ejercicios en paython"
      ]
    },
    {
      "cell_type": "markdown",
      "source": [
        "Desarrolla un algoritmo que solicite al usuario dos números y muestre la suma de ambos."
      ],
      "metadata": {
        "id": "TrxI-tex10dr"
      }
    },
    {
      "cell_type": "code",
      "source": [
        "# Solicitar al usuario el primer número\n",
        "numero1 = float(input(\"Ingrese el primer número: \"))\n",
        "\n",
        "# Solicitar al usuario el segundo número\n",
        "numero2 = float(input(\"Ingrese el segundo número: \"))\n",
        "\n",
        "# Calcular la suma de los dos números\n",
        "suma = numero1 + numero2\n",
        "\n",
        "# Mostrar el resultado al usuario\n",
        "print(\"La suma de\", numero1, \"y\", numero2, \"es:\", suma)\n"
      ],
      "metadata": {
        "colab": {
          "base_uri": "https://localhost:8080/"
        },
        "id": "8_NTtWpe2J2E",
        "outputId": "0a08a08a-829a-482c-f91d-d828770df9ad"
      },
      "execution_count": 2,
      "outputs": [
        {
          "output_type": "stream",
          "name": "stdout",
          "text": [
            "Ingrese el primer número: 1\n",
            "Ingrese el segundo número: 67\n",
            "La suma de 1.0 y 67.0 es: 68.0\n"
          ]
        }
      ]
    },
    {
      "cell_type": "markdown",
      "source": [
        "Desarrolla un algoritmo que calcule el factorial de un número ingresado por el usuario."
      ],
      "metadata": {
        "id": "1QvUWyJJ2dpb"
      }
    },
    {
      "cell_type": "code",
      "source": [
        "# Solicitar al usuario el número\n",
        "numero = int(input(\"Ingrese un número entero: \"))\n",
        "\n",
        "# Verificar si el número es negativo\n",
        "if numero < 0:\n",
        "    print(\"El factorial no está definido para números negativos.\")\n",
        "else:\n",
        "    factorial = 1\n",
        "    # Calcular el factorial del número\n",
        "    for i in range(1, numero + 1):\n",
        "        factorial *= i\n",
        "\n",
        "    # Mostrar el resultado al usuario\n",
        "    print(\"El factorial de\", numero, \"es:\", factorial)\n"
      ],
      "metadata": {
        "colab": {
          "base_uri": "https://localhost:8080/"
        },
        "id": "CfZ_lKCA2klJ",
        "outputId": "621e1fa2-7f56-4e63-bd3f-c0a29de68fe2"
      },
      "execution_count": 3,
      "outputs": [
        {
          "output_type": "stream",
          "name": "stdout",
          "text": [
            "Ingrese un número entero: 50\n",
            "El factorial de 50 es: 30414093201713378043612608166064768844377641568960512000000000000\n"
          ]
        }
      ]
    },
    {
      "cell_type": "markdown",
      "source": [
        "\n",
        "Desarrolla un algoritmo que tome una lista de números y un número objetivo, y muestre la posición (índice) en la que se encuentra el número objetivo en la lista."
      ],
      "metadata": {
        "id": "YUKHBcZ120Qe"
      }
    },
    {
      "cell_type": "code",
      "source": [
        "# Solicitar al usuario la lista de números\n",
        "numeros = input(\"Ingrese una lista de números separados por espacios: \").split()\n",
        "numeros = [int(numero) for numero in numeros]\n",
        "\n",
        "# Solicitar al usuario el número objetivo\n",
        "objetivo = int(input(\"Ingrese el número objetivo: \"))\n",
        "\n",
        "# Buscar la posición del número objetivo en la lista\n",
        "posicion = None\n",
        "for indice, numero in enumerate(numeros):\n",
        "    if numero == objetivo:\n",
        "        posicion = indice\n",
        "        break\n",
        "\n",
        "# Mostrar el resultado al usuario\n",
        "if posicion is not None:\n",
        "    print(\"El número objetivo\", objetivo, \"se encuentra en la posición\", posicion)\n",
        "else:\n",
        "    print(\"El número objetivo\", objetivo, \"no se encuentra en la lista.\")\n"
      ],
      "metadata": {
        "colab": {
          "base_uri": "https://localhost:8080/"
        },
        "id": "tIjx34ex24nN",
        "outputId": "881a066e-ab17-4c0d-b72e-ed0f422ac8a2"
      },
      "execution_count": 5,
      "outputs": [
        {
          "output_type": "stream",
          "name": "stdout",
          "text": [
            "Ingrese una lista de números separados por espacios: 6 7 8 9\n",
            "Ingrese el número objetivo: 6\n",
            "El número objetivo 6 se encuentra en la posición 0\n"
          ]
        }
      ]
    },
    {
      "cell_type": "markdown",
      "source": [
        "Desarrolla un algoritmo que tome una cadena de texto y determine si es un palíndromo (se lee igual de adelante hacia atrás y viceversa)."
      ],
      "metadata": {
        "id": "sTH4m8zb3QXX"
      }
    },
    {
      "cell_type": "code",
      "source": [
        "# Solicitar al usuario la cadena de texto\n",
        "cadena = input(\"Ingrese una cadena de texto: \")\n",
        "\n",
        "# Eliminar los espacios en blanco y convertir todo a minúsculas\n",
        "cadena = cadena.replace(\" \", \"\").lower()\n",
        "\n",
        "# Verificar si la cadena es un palíndromo\n",
        "es_palindromo = cadena == cadena[::-1]\n",
        "\n",
        "# Mostrar el resultado al usuario\n",
        "if es_palindromo:\n",
        "    print(\"La cadena es un palíndromo.\")\n",
        "else:\n",
        "    print(\"La cadena no es un palíndromo.\")\n"
      ],
      "metadata": {
        "colab": {
          "base_uri": "https://localhost:8080/"
        },
        "id": "Vf7QPiTa3YhM",
        "outputId": "496e7761-c765-4d8a-aca5-90c69e2da8fd"
      },
      "execution_count": 6,
      "outputs": [
        {
          "output_type": "stream",
          "name": "stdout",
          "text": [
            "Ingrese una cadena de texto: Hannah\n",
            "La cadena es un palíndromo.\n"
          ]
        }
      ]
    }
  ]
}